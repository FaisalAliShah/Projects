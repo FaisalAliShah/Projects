{
 "cells": [
  {
   "cell_type": "code",
   "execution_count": 1,
   "id": "867af98f",
   "metadata": {},
   "outputs": [],
   "source": [
    "# import libraries\n",
    "\n",
    "from bs4 import BeautifulSoup\n",
    "import requests\n",
    "import smtplib\n",
    "import time\n",
    "import datetime"
   ]
  },
  {
   "cell_type": "code",
   "execution_count": 14,
   "id": "298e0d1b",
   "metadata": {},
   "outputs": [
    {
     "name": "stdout",
     "output_type": "stream",
     "text": [
      "\n",
      "                  Nautica Men's Classic Fit Short Sleeve Dual Tipped Collar Polo Shirt\n",
      "                 \n",
      "\n",
      "                   10,436 ratings\n",
      "                  \n"
     ]
    }
   ],
   "source": [
    "# Connect to Website and pull in data\n",
    "\n",
    "URL = 'https://www.amazon.com/Nautica-Classic-Sleeve-Tipped-Collar/dp/B07BN585VB/ref=sr_1_2_sspa?crid=T70MBI5KTMUI&keywords=polo+shirts+for+men&qid=1692267625&sprefix=polo+shit%2Caps%2C352&sr=8-2-spons&sp_csd=d2lkZ2V0TmFtZT1zcF9hdGY&psc=1'\n",
    "\n",
    "headers = {\"User-Agent\": \"Mozilla/5.0 (Windows NT 10.0; Win64; x64) AppleWebKit/537.36 (KHTML, like Gecko) Chrome/78.0.3904.108 Safari/537.36\", \"Accept-Encoding\":\"gzip, deflate\", \"Accept\":\"text/html,application/xhtml+xml,application/xml;q=0.9,*/*;q=0.8\", \"DNT\":\"1\",\"Connection\":\"close\", \"Upgrade-Insecure-Requests\":\"1\"}\n",
    "\n",
    "page = requests.get(URL, headers=headers)\n",
    "\n",
    "soup1 = BeautifulSoup(page.content, \"lxml\")\n",
    "\n",
    "soup2 = BeautifulSoup(soup1.prettify(),\"lxml\")\n",
    "\n",
    "title = soup2.find(id=\"productTitle\").get_text()\n",
    "\n",
    "ratings = soup2.find(id=\"acrCustomerReviewText\").get_text()\n",
    "\n",
    "print(title)\n",
    "\n",
    "print(ratings)"
   ]
  },
  {
   "cell_type": "code",
   "execution_count": 15,
   "id": "02c81b8c",
   "metadata": {},
   "outputs": [
    {
     "name": "stdout",
     "output_type": "stream",
     "text": [
      "Nautica Men's Classic Fit Short Sleeve Dual Tipped Collar Polo Shirt\n",
      "10,436\n"
     ]
    }
   ],
   "source": [
    "# Making data more presentable\n",
    "\n",
    "ratings = ratings.strip()[:6]\n",
    "title = title.strip()\n",
    "print(title)\n",
    "print(ratings)"
   ]
  },
  {
   "cell_type": "code",
   "execution_count": 16,
   "id": "4c464259",
   "metadata": {},
   "outputs": [
    {
     "name": "stdout",
     "output_type": "stream",
     "text": [
      "2023-08-19\n"
     ]
    }
   ],
   "source": [
    "today = datetime.date.today()\n",
    "\n",
    "print(today)"
   ]
  },
  {
   "cell_type": "code",
   "execution_count": 17,
   "id": "e950b697",
   "metadata": {},
   "outputs": [],
   "source": [
    "# Creating a dataset and storing our data\n",
    "import csv\n",
    "\n",
    "header = ['Title', 'Ratings','Date']\n",
    "data = [title, ratings,today]\n",
    "\n",
    "with open('Amazonwebscrapperdataset.csv','w', newline='', encoding='UTF8') as f:\n",
    "    writer = csv.writer(f)\n",
    "    writer.writerow(header)\n",
    "    writer.writerow(data)"
   ]
  },
  {
   "cell_type": "code",
   "execution_count": 18,
   "id": "730ec29b",
   "metadata": {},
   "outputs": [
    {
     "name": "stdout",
     "output_type": "stream",
     "text": [
      "                                               Title Ratings        Date\n",
      "0  Nautica Men's Classic Fit Short Sleeve Dual Ti...  10,436  2023-08-19\n"
     ]
    }
   ],
   "source": [
    "# check if our data is stored correctly\n",
    "\n",
    "import pandas as pd\n",
    "\n",
    "df= pd.read_csv(r'C:\\Users\\IceCandyman\\Desktop\\python\\Amazon Web Scrapper project\\Amazonwebscrapperdataset.csv')\n",
    "print(df)"
   ]
  },
  {
   "cell_type": "code",
   "execution_count": 28,
   "id": "5198162e",
   "metadata": {},
   "outputs": [],
   "source": [
    "# Now appending data to the csv\n",
    "\n",
    "with open('Amazonwebscrapperdataset.csv','a+', newline='', encoding='UTF8') as f:\n",
    "    writer = csv.writer(f)\n",
    "    writer.writerow(data)"
   ]
  },
  {
   "cell_type": "code",
   "execution_count": 4,
   "id": "7468f107",
   "metadata": {},
   "outputs": [],
   "source": [
    "\n",
    "\n",
    "def check_price():\n",
    "    URL = 'https://www.amazon.com/Nautica-Classic-Sleeve-Tipped-Collar/dp/B07BN585VB/ref=sr_1_2_sspa?crid=T70MBI5KTMUI&keywords=polo+shirts+for+men&qid=1692267625&sprefix=polo+shit%2Caps%2C352&sr=8-2-spons&sp_csd=d2lkZ2V0TmFtZT1zcF9hdGY&psc=1'\n",
    "\n",
    "    headers = {\"User-Agent\": \"Mozilla/5.0 (Windows NT 10.0; Win64; x64) AppleWebKit/537.36 (KHTML, like Gecko) Chrome/78.0.3904.108 Safari/537.36\", \"Accept-Encoding\":\"gzip, deflate\", \"Accept\":\"text/html,application/xhtml+xml,application/xml;q=0.9,*/*;q=0.8\", \"DNT\":\"1\",\"Connection\":\"close\", \"Upgrade-Insecure-Requests\":\"1\"}\n",
    "\n",
    "    page = requests.get(URL, headers=headers)\n",
    "\n",
    "    soup1 = BeautifulSoup(page.content, \"lxml\")\n",
    "\n",
    "    soup2 = BeautifulSoup(soup1.prettify(),\"lxml\")\n",
    "\n",
    "    title = soup2.find(id=\"productTitle\").get_text()\n",
    "\n",
    "    ratings = soup2.find(id=\"acrCustomerReviewText\").get_text()\n",
    "\n",
    "    \n",
    "    ratings = ratings.strip()[:6]\n",
    "    \n",
    "    title = title.strip()\n",
    "\n",
    "    today = datetime.date.today()\n",
    "\n",
    "    import csv\n",
    "\n",
    "    header = ['Title', 'Ratings','Date']\n",
    "    data = [title, ratings,today]\n",
    "\n",
    "    with open('Amazonwebscrapperdataset.csv','a+', newline='', encoding='UTF8') as f:\n",
    "        writer = csv.writer(f)\n",
    "        writer.writerow(data)"
   ]
  },
  {
   "cell_type": "code",
   "execution_count": null,
   "id": "58610db2",
   "metadata": {},
   "outputs": [],
   "source": [
    "while(True):\n",
    "    check_price()\n",
    "    time.sleep(5)"
   ]
  },
  {
   "cell_type": "code",
   "execution_count": 29,
   "id": "b296398e",
   "metadata": {},
   "outputs": [
    {
     "name": "stdout",
     "output_type": "stream",
     "text": [
      "                                                Title Ratings        Date\n",
      "0   Nautica Men's Classic Fit Short Sleeve Dual Ti...  10,436  2023-08-19\n",
      "1   Nautica Men's Classic Fit Short Sleeve Dual Ti...  10,436  2023-08-19\n",
      "2   Nautica Men's Classic Fit Short Sleeve Dual Ti...  10,436  2023-08-19\n",
      "3   Nautica Men's Classic Fit Short Sleeve Dual Ti...  10,436  2023-08-19\n",
      "4   Nautica Men's Classic Fit Short Sleeve Dual Ti...  10,436  2023-08-19\n",
      "5   Nautica Men's Classic Fit Short Sleeve Dual Ti...  10,436  2023-08-19\n",
      "6   Nautica Men's Classic Fit Short Sleeve Dual Ti...  10,436  2023-08-19\n",
      "7   Nautica Men's Classic Fit Short Sleeve Dual Ti...  10,436  2023-08-19\n",
      "8   Nautica Men's Classic Fit Short Sleeve Dual Ti...  10,436  2023-08-19\n",
      "9   Nautica Men's Classic Fit Short Sleeve Dual Ti...  10,436  2023-08-19\n",
      "10  Nautica Men's Classic Fit Short Sleeve Dual Ti...  10,436  2023-08-19\n"
     ]
    }
   ],
   "source": [
    "# check if our data is stored correctly\n",
    "\n",
    "import pandas as pd\n",
    "\n",
    "df= pd.read_csv(r'C:\\Users\\IceCandyman\\Desktop\\python\\Amazon Web Scrapper project\\Amazonwebscrapperdataset.csv')\n",
    "print(df)"
   ]
  },
  {
   "cell_type": "code",
   "execution_count": null,
   "id": "43887ac5",
   "metadata": {},
   "outputs": [],
   "source": []
  }
 ],
 "metadata": {
  "kernelspec": {
   "display_name": "Python 3 (ipykernel)",
   "language": "python",
   "name": "python3"
  },
  "language_info": {
   "codemirror_mode": {
    "name": "ipython",
    "version": 3
   },
   "file_extension": ".py",
   "mimetype": "text/x-python",
   "name": "python",
   "nbconvert_exporter": "python",
   "pygments_lexer": "ipython3",
   "version": "3.10.8"
  }
 },
 "nbformat": 4,
 "nbformat_minor": 5
}
